{
 "cells": [
  {
   "cell_type": "code",
   "execution_count": 1,
   "metadata": {},
   "outputs": [],
   "source": [
    "import sqlite3\n",
    "import pandas as pd\n",
    "import os"
   ]
  },
  {
   "cell_type": "code",
   "execution_count": 2,
   "metadata": {},
   "outputs": [],
   "source": [
    "db_path = '../files/wtune.db'\n",
    "output_dir = '../files/'\n",
    "os.makedirs(output_dir, exist_ok=True)"
   ]
  },
  {
   "cell_type": "code",
   "execution_count": 3,
   "metadata": {},
   "outputs": [],
   "source": [
    "conn = sqlite3.connect(db_path)\n",
    "cursor = conn.cursor()"
   ]
  },
  {
   "cell_type": "code",
   "execution_count": 4,
   "metadata": {},
   "outputs": [],
   "source": [
    "cursor.execute(\"SELECT name FROM sqlite_master WHERE type='table';\")\n",
    "tables = [row[0] for row in cursor.fetchall()]"
   ]
  },
  {
   "cell_type": "code",
   "execution_count": 5,
   "metadata": {},
   "outputs": [
    {
     "name": "stdout",
     "output_type": "stream",
     "text": [
      "Total tables: 15\n",
      "- sqlite_sequence\n",
      "- wtune_rule_mapping\n",
      "- wtune_used_rules\n",
      "- wtune_stmts\n",
      "- calcite_stmts\n",
      "- wtune_schema_patches\n",
      "- calcite_opt_stmts\n",
      "- wtune_opt_stmts_spes\n",
      "- wtune_opt_stmts_wtune\n",
      "- wtune_opt_stmts_wtune_spes\n",
      "- wtune_issues\n",
      "- wtune_stmt_perf\n",
      "- wtune_opt_stmts\n",
      "- wtune_opt_stmts_calcite\n",
      "- wtune_opt_issues_calcite\n"
     ]
    }
   ],
   "source": [
    "print(f\"Total tables: {len(tables)}\")\n",
    "for table in tables:\n",
    "    print(f\"- {table}\")"
   ]
  },
  {
   "cell_type": "code",
   "execution_count": 6,
   "metadata": {},
   "outputs": [
    {
     "name": "stdout",
     "output_type": "stream",
     "text": [
      "table sqlite_sequence length: 0\n",
      "table wtune_rule_mapping length: 0\n",
      "table wtune_used_rules length: 0\n",
      "table wtune_stmts length: 8574\n",
      "table calcite_stmts length: 464\n",
      "table wtune_schema_patches length: 2446\n",
      "table calcite_opt_stmts length: 0\n",
      "table wtune_opt_stmts_spes length: 0\n",
      "table wtune_opt_stmts_wtune length: 0\n",
      "table wtune_opt_stmts_wtune_spes length: 0\n",
      "table wtune_issues length: 0\n",
      "table wtune_stmt_perf length: 0\n",
      "table wtune_opt_stmts length: 0\n",
      "table wtune_opt_stmts_calcite length: 0\n",
      "table wtune_opt_issues_calcite length: 0\n"
     ]
    }
   ],
   "source": [
    "data_dict = {}\n",
    "\n",
    "for table in tables:\n",
    "    df = pd.read_sql_query(f\"SELECT * FROM {table}\", conn)\n",
    "    df = df.replace(r'\\n', ' ', regex=True)\\\n",
    "           .replace(r'\\r', ' ', regex=True)\\\n",
    "           .replace(r'\\t', ' ', regex=True)\\\n",
    "           .replace(r'\\s{2,}', ' ', regex=True)\n",
    "    data_dict[table] = df\n",
    "    print(f\"table {table} length:\", len(df))"
   ]
  },
  {
   "cell_type": "code",
   "execution_count": 7,
   "metadata": {},
   "outputs": [
    {
     "name": "stdout",
     "output_type": "stream",
     "text": [
      "table sqlite_sequence is empty, so not saved.\n",
      "table wtune_rule_mapping is empty, so not saved.\n",
      "table wtune_used_rules is empty, so not saved.\n",
      "wtune_stmts -> ../files/wtune_stmts.tsv done\n",
      "calcite_stmts -> ../files/calcite_stmts.tsv done\n",
      "wtune_schema_patches -> ../files/wtune_schema_patches.tsv done\n",
      "table calcite_opt_stmts is empty, so not saved.\n",
      "table wtune_opt_stmts_spes is empty, so not saved.\n",
      "table wtune_opt_stmts_wtune is empty, so not saved.\n",
      "table wtune_opt_stmts_wtune_spes is empty, so not saved.\n",
      "table wtune_issues is empty, so not saved.\n",
      "table wtune_stmt_perf is empty, so not saved.\n",
      "table wtune_opt_stmts is empty, so not saved.\n",
      "table wtune_opt_stmts_calcite is empty, so not saved.\n",
      "table wtune_opt_issues_calcite is empty, so not saved.\n"
     ]
    }
   ],
   "source": [
    "for table in data_dict.keys():\n",
    "    if len(data_dict[table]) > 0:\n",
    "        tsv_path = os.path.join(output_dir, f\"{table}.tsv\")\n",
    "        data_dict[table].to_csv(tsv_path, index=False, sep=\"\\t\")\n",
    "        print(f\"{table} -> {tsv_path} done\")\n",
    "    else:\n",
    "        print(f\"table {table} is empty, so not saved.\")"
   ]
  },
  {
   "cell_type": "code",
   "execution_count": 8,
   "metadata": {},
   "outputs": [],
   "source": [
    "conn.close()"
   ]
  },
  {
   "cell_type": "code",
   "execution_count": null,
   "metadata": {},
   "outputs": [],
   "source": []
  }
 ],
 "metadata": {
  "kernelspec": {
   "display_name": "base",
   "language": "python",
   "name": "python3"
  },
  "language_info": {
   "codemirror_mode": {
    "name": "ipython",
    "version": 3
   },
   "file_extension": ".py",
   "mimetype": "text/x-python",
   "name": "python",
   "nbconvert_exporter": "python",
   "pygments_lexer": "ipython3",
   "version": "3.12.4"
  }
 },
 "nbformat": 4,
 "nbformat_minor": 2
}
